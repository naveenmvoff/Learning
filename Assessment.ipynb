{
 "cells": [
  {
   "cell_type": "markdown",
   "metadata": {},
   "source": [
    "1. Write a program to check if the given number is palindrome or not. #using loop also"
   ]
  },
  {
   "cell_type": "code",
   "execution_count": 5,
   "metadata": {},
   "outputs": [
    {
     "name": "stdout",
     "output_type": "stream",
     "text": [
      "Yes, the given number is palindrome\n",
      "121\n"
     ]
    }
   ],
   "source": [
    "input1 = list(map(int, input(\"Enter the Number: \").split()))\n",
    "\n",
    "rev = input1[::-1]\n",
    "\n",
    "if rev == input1:\n",
    "    print(\"Yes, the given number is palindrome\")\n",
    "else:\n",
    "    print(\"No, The given number is not a palindrome\")\n",
    "\n",
    "rev_int = int(''.join(map(str, rev)))\n",
    "\n",
    "print(rev_int)"
   ]
  },
  {
   "cell_type": "markdown",
   "metadata": {},
   "source": [
    "2. Write a program to check if the given strings are anagram or not."
   ]
  },
  {
   "cell_type": "code",
   "execution_count": 17,
   "metadata": {},
   "outputs": [
    {
     "name": "stdout",
     "output_type": "stream",
     "text": [
      "hello oellh\n",
      "The given word is anagram\n"
     ]
    }
   ],
   "source": [
    "def check_anagrom(string1, string2):\n",
    "\n",
    "    word1 = sorted(string1)\n",
    "    word2 = sorted(string2)\n",
    "\n",
    "    if word1 == word2:\n",
    "        return \"The given word is anagram\"\n",
    "    else:\n",
    "        return \"The given word is not an anagram\"\n",
    "\n",
    "\n",
    "input1 = input()\n",
    "input2 = input()\n",
    "\n",
    "result = check_anagrom(input1, input2)\n",
    "\n",
    "print(input1, input2)\n",
    "print(result)"
   ]
  },
  {
   "cell_type": "markdown",
   "metadata": {},
   "source": [
    "3. Write a program to find a factorial of a number"
   ]
  },
  {
   "cell_type": "code",
   "execution_count": 1,
   "metadata": {},
   "outputs": [
    {
     "name": "stdout",
     "output_type": "stream",
     "text": [
      "120\n"
     ]
    }
   ],
   "source": [
    "def fact(input1):\n",
    "    \n",
    "    store = 1\n",
    "\n",
    "    if input1 < 0:\n",
    "        return \"The given number is negative\"\n",
    "    elif input1 == 0:\n",
    "        print(\"The factorial of 0 is 1\")\n",
    "    else:\n",
    "        for i in range(1, input1 + 1):  #some time i frogot to provide 1, i need some clarification\n",
    "            store = store * i\n",
    "    return store\n",
    "\n",
    "input1 = int(input())\n",
    "\n",
    "result = fact(input1)\n",
    "\n",
    "print(result)"
   ]
  },
  {
   "cell_type": "markdown",
   "metadata": {},
   "source": [
    "4. Write a program to find GCD of two numbers."
   ]
  },
  {
   "cell_type": "code",
   "execution_count": 10,
   "metadata": {},
   "outputs": [
    {
     "name": "stdout",
     "output_type": "stream",
     "text": [
      "14\n"
     ]
    }
   ],
   "source": [
    "import math\n",
    "def find_gcd(input1, input2):\n",
    "\n",
    "    if input1 == input2:\n",
    "        return input1\n",
    "    if input1 == 0:\n",
    "        return input2\n",
    "    if input2 == 0:\n",
    "        return input1\n",
    "    if input1 > input2:\n",
    "        return find_gcd(input1 - input2, input2)\n",
    "    return find_gcd(input1, input2 - input1)\n",
    "\n",
    "\n",
    "#    return math.gcd(input1, input2)\n",
    "\n",
    "\n",
    "input1 = int(input())\n",
    "input2 = int(input())\n",
    "\n",
    "result = find_gcd(input1, input2)\n",
    "print(result)"
   ]
  },
  {
   "cell_type": "markdown",
   "metadata": {},
   "source": [
    "5. Write a Python program to find the largest number in a list."
   ]
  },
  {
   "cell_type": "code",
   "execution_count": 1,
   "metadata": {},
   "outputs": [
    {
     "name": "stdout",
     "output_type": "stream",
     "text": [
      "5\n"
     ]
    }
   ],
   "source": [
    "def largest_num(input1):\n",
    "    return max(input1)\n",
    "\n",
    "input1 = list(map(int, input(\"Enter the number with useing Space: \").split()))\n",
    "\n",
    "result = largest_num(input1)\n",
    "\n",
    "print(result)"
   ]
  },
  {
   "cell_type": "markdown",
   "metadata": {},
   "source": [
    "6. Write a Python program to convert a string to uppercase and lowercase."
   ]
  },
  {
   "cell_type": "code",
   "execution_count": 15,
   "metadata": {},
   "outputs": [
    {
     "name": "stdout",
     "output_type": "stream",
     "text": [
      "The Upper case of the Word:  HELLO\n",
      "The Upper case of the Word:  hello\n",
      "The corrected case is:  HELLO\n"
     ]
    }
   ],
   "source": [
    "def upper_case(input1):\n",
    "    return input1.upper()\n",
    "\n",
    "def lower_case(input1):\n",
    "    return input1.lower() \n",
    "\n",
    "def oncase(input1):\n",
    "    if input1.isupper():\n",
    "        return input1.lower()\n",
    "    else:\n",
    "        return input1.upper()\n",
    "\n",
    "\n",
    "input1 = input()\n",
    "\n",
    "upper_value = upper_case(input1)\n",
    "lower_value = lower_case(input1)\n",
    "case_change = oncase(input1)\n",
    "\n",
    "\n",
    "\n",
    "print(\"The Upper case of the Word: \", upper_value)\n",
    "print(\"The Upper case of the Word: \", lower_value)\n",
    "print(\"The corrected case is: \", case_change)\n"
   ]
  },
  {
   "cell_type": "markdown",
   "metadata": {},
   "source": [
    "7. Write a Python program to check if a string contains a specific substring."
   ]
  },
  {
   "cell_type": "code",
   "execution_count": 48,
   "metadata": {},
   "outputs": [
    {
     "name": "stdout",
     "output_type": "stream",
     "text": [
      "Sub string found\n"
     ]
    }
   ],
   "source": [
    "def check_substring(input1, input2):\n",
    "    return input1 in input2\n",
    "\n",
    "input1 = input()\n",
    "input2 = input()\n",
    "\n",
    "if check_substring(input1, input2):\n",
    "    print(\"Sub string found\")\n",
    "else:\n",
    "    print(\"No sub string found\")\n",
    "\n"
   ]
  },
  {
   "cell_type": "markdown",
   "metadata": {},
   "source": [
    "8. Write a Python program to implement a function for checking if a string is a valid parenthesis expression."
   ]
  },
  {
   "cell_type": "code",
   "execution_count": null,
   "metadata": {},
   "outputs": [],
   "source": []
  },
  {
   "cell_type": "markdown",
   "metadata": {},
   "source": [
    "9. Write a program to convert list to set."
   ]
  },
  {
   "cell_type": "code",
   "execution_count": 18,
   "metadata": {},
   "outputs": [
    {
     "name": "stdout",
     "output_type": "stream",
     "text": [
      "The list formate:  [1, 2, 3, 4, 55, 6, 77]\n",
      "The tupel format:  {1, 2, 3, 4, 6, 77, 55}\n"
     ]
    }
   ],
   "source": [
    "def covert_to_set(input1):\n",
    "    return set(input1)\n",
    "\n",
    "input1 = list(map(int, input().split()))\n",
    "\n",
    "result = covert_to_set(input1)\n",
    "\n",
    "print(\"The list formate: \", input1)\n",
    "print(\"The set format: \", result)"
   ]
  },
  {
   "cell_type": "markdown",
   "metadata": {},
   "source": [
    "10. Write a Python program to count the frequency of each element in a list.\n",
    "\n",
    "#Only for string #need to complete for intiger"
   ]
  },
  {
   "cell_type": "code",
   "execution_count": 16,
   "metadata": {},
   "outputs": [
    {
     "name": "stdout",
     "output_type": "stream",
     "text": [
      "Counter({' ': 13, 'a': 4, 'd': 4, 'f': 4, 'g': 4})\n"
     ]
    }
   ],
   "source": [
    "import collections\n",
    "def counting_fun(input1):\n",
    "    return collections.Counter(input1)\n",
    "\n",
    "input1 = input()\n",
    "\n",
    "result = counting_fun(input1)\n",
    "\n",
    "print(result)   "
   ]
  },
  {
   "cell_type": "markdown",
   "metadata": {},
   "source": [
    "11. Write a Python program to sort a list of elements using the bubble sort algorithm."
   ]
  },
  {
   "cell_type": "code",
   "execution_count": 18,
   "metadata": {},
   "outputs": [
    {
     "ename": "IndexError",
     "evalue": "list index out of range",
     "output_type": "error",
     "traceback": [
      "\u001b[1;31m---------------------------------------------------------------------------\u001b[0m",
      "\u001b[1;31mIndexError\u001b[0m                                Traceback (most recent call last)",
      "Cell \u001b[1;32mIn[18], line 12\u001b[0m\n\u001b[0;32m      8\u001b[0m     \u001b[38;5;28;01mreturn\u001b[39;00m input1\n\u001b[0;32m     10\u001b[0m input1 \u001b[38;5;241m=\u001b[39m \u001b[38;5;28mlist\u001b[39m(\u001b[38;5;28mmap\u001b[39m(\u001b[38;5;28mint\u001b[39m, \u001b[38;5;28minput\u001b[39m()\u001b[38;5;241m.\u001b[39msplit()))\n\u001b[1;32m---> 12\u001b[0m outofdef \u001b[38;5;241m=\u001b[39m \u001b[43mbubble_sort\u001b[49m\u001b[43m(\u001b[49m\u001b[43minput1\u001b[49m\u001b[43m)\u001b[49m\n\u001b[0;32m     14\u001b[0m covert_to_int \u001b[38;5;241m=\u001b[39m (\u001b[38;5;124m\"\u001b[39m\u001b[38;5;124m\"\u001b[39m\u001b[38;5;241m.\u001b[39mjoin(\u001b[38;5;28mmap\u001b[39m(\u001b[38;5;28mstr\u001b[39m, outofdef)))\n\u001b[0;32m     16\u001b[0m \u001b[38;5;28mprint\u001b[39m(covert_to_set)\n",
      "Cell \u001b[1;32mIn[18], line 4\u001b[0m, in \u001b[0;36mbubble_sort\u001b[1;34m(input1)\u001b[0m\n\u001b[0;32m      2\u001b[0m \u001b[38;5;28;01mfor\u001b[39;00m i \u001b[38;5;129;01min\u001b[39;00m \u001b[38;5;28mrange\u001b[39m(\u001b[38;5;28mlen\u001b[39m(input1) \u001b[38;5;241m-\u001b[39m\u001b[38;5;241m1\u001b[39m, \u001b[38;5;241m0\u001b[39m, \u001b[38;5;241m-\u001b[39m\u001b[38;5;241m1\u001b[39m):\n\u001b[0;32m      3\u001b[0m     \u001b[38;5;28;01mfor\u001b[39;00m j \u001b[38;5;129;01min\u001b[39;00m \u001b[38;5;28mrange\u001b[39m(input1[i]):\n\u001b[1;32m----> 4\u001b[0m         \u001b[38;5;28;01mif\u001b[39;00m input1[i] \u001b[38;5;241m>\u001b[39m \u001b[43minput1\u001b[49m\u001b[43m[\u001b[49m\u001b[43mi\u001b[49m\u001b[43m \u001b[49m\u001b[38;5;241;43m+\u001b[39;49m\u001b[43m \u001b[49m\u001b[38;5;241;43m1\u001b[39;49m\u001b[43m]\u001b[49m:\n\u001b[0;32m      5\u001b[0m             temp \u001b[38;5;241m=\u001b[39m \u001b[38;5;28minput\u001b[39m[i \u001b[38;5;241m+\u001b[39m \u001b[38;5;241m1\u001b[39m]\n\u001b[0;32m      6\u001b[0m             input1[i] \u001b[38;5;241m=\u001b[39m input1[i \u001b[38;5;241m+\u001b[39m \u001b[38;5;241m1\u001b[39m]\n",
      "\u001b[1;31mIndexError\u001b[0m: list index out of range"
     ]
    }
   ],
   "source": [
    "def bubble_sort(input1):\n",
    "    for i in range(len(input1) -1, 0, -1):\n",
    "        for j in range(input1[i]):\n",
    "            if input1[i] > input1[i + 1]:\n",
    "                temp = input[i + 1]\n",
    "                input1[i] = input1[i + 1]\n",
    "                input1[i + 1] = temp\n",
    "    return input1\n",
    "\n",
    "input1 = list(map(int, input().split()))\n",
    "\n",
    "outofdef = bubble_sort(input1)\n",
    "\n",
    "covert_to_int = (''.join(map(str, outofdef)))\n",
    "\n",
    "print(covert_to_set)"
   ]
  },
  {
   "cell_type": "markdown",
   "metadata": {},
   "source": [
    "12. Write a program to find a number is prime or not."
   ]
  },
  {
   "cell_type": "code",
   "execution_count": 37,
   "metadata": {},
   "outputs": [
    {
     "name": "stdout",
     "output_type": "stream",
     "text": [
      "5 is a prime number\n"
     ]
    }
   ],
   "source": [
    "#confused\n",
    "\n",
    "def prime_number(input1):\n",
    "\n",
    "    value = True\n",
    "\n",
    "    if input1 <= 1:\n",
    "        return f\"{input1} is not a prime number\"\n",
    "\n",
    "    else:\n",
    "        for i in range(2, input1):\n",
    "            if (input1 % i) == 0:\n",
    "                value = False\n",
    "                break\n",
    "        \n",
    "        if value == False:\n",
    "            return f\"{input1} is not a prime number\"\n",
    "        elif value == True:\n",
    "            return f\"{input1} is a prime number\"\n",
    "\n",
    "input1 = int(input(\"Enter the number: \"))\n",
    "\n",
    "result = prime_number(input1)\n",
    "\n",
    "print(result)\n"
   ]
  },
  {
   "cell_type": "markdown",
   "metadata": {},
   "source": [
    "13. Print the Fibonacci sequence up to a given number of terms."
   ]
  },
  {
   "cell_type": "code",
   "execution_count": 57,
   "metadata": {},
   "outputs": [
    {
     "name": "stdout",
     "output_type": "stream",
     "text": [
      "[1, 1, 2, 3, 5]\n"
     ]
    }
   ],
   "source": [
    "def fib(input1):\n",
    "\n",
    "    store = []\n",
    "    a, b = 0, 1\n",
    "    while len(store) <= input1:\n",
    "        store.append(a)\n",
    "        a, b = b, a + b\n",
    "    return store\n",
    "\n",
    "input1 = int(input())\n",
    "\n",
    "result = fib(input1)\n",
    "print(result)"
   ]
  },
  {
   "cell_type": "markdown",
   "metadata": {},
   "source": [
    "14. write a program in python to convert the integer to binary.\n"
   ]
  },
  {
   "cell_type": "code",
   "execution_count": 43,
   "metadata": {},
   "outputs": [
    {
     "name": "stdout",
     "output_type": "stream",
     "text": [
      "The binary value of the 10 is 0b1010\n"
     ]
    }
   ],
   "source": [
    "def int_to_binary(input1):\n",
    "    return bin(input1)\n",
    "\n",
    "input1 = int(input())\n",
    "\n",
    "result = int_to_binary(input1)\n",
    "print(\"The binary value of the\", input1, \"is\", result)"
   ]
  }
 ],
 "metadata": {
  "kernelspec": {
   "display_name": "Python 3",
   "language": "python",
   "name": "python3"
  },
  "language_info": {
   "codemirror_mode": {
    "name": "ipython",
    "version": 3
   },
   "file_extension": ".py",
   "mimetype": "text/x-python",
   "name": "python",
   "nbconvert_exporter": "python",
   "pygments_lexer": "ipython3",
   "version": "3.12.6"
  }
 },
 "nbformat": 4,
 "nbformat_minor": 2
}
